{
 "cells": [
  {
   "cell_type": "markdown",
   "metadata": {},
   "source": [
    "# Feature engineering for the dataset."
   ]
  },
  {
   "cell_type": "code",
   "execution_count": 159,
   "metadata": {},
   "outputs": [],
   "source": [
    "#import libraries.\n",
    "import pandas as pd\n",
    "import numpy as np\n",
    "import matplotlib.pyplot as plt"
   ]
  },
  {
   "cell_type": "code",
   "execution_count": 160,
   "metadata": {
    "scrolled": true
   },
   "outputs": [
    {
     "data": {
      "text/html": [
       "<div>\n",
       "<style scoped>\n",
       "    .dataframe tbody tr th:only-of-type {\n",
       "        vertical-align: middle;\n",
       "    }\n",
       "\n",
       "    .dataframe tbody tr th {\n",
       "        vertical-align: top;\n",
       "    }\n",
       "\n",
       "    .dataframe thead th {\n",
       "        text-align: right;\n",
       "    }\n",
       "</style>\n",
       "<table border=\"1\" class=\"dataframe\">\n",
       "  <thead>\n",
       "    <tr style=\"text-align: right;\">\n",
       "      <th></th>\n",
       "      <th>County</th>\n",
       "      <th>FIPS</th>\n",
       "      <th>45.5_objective</th>\n",
       "      <th>Adj.Death_rate</th>\n",
       "      <th>low_death_rate</th>\n",
       "      <th>upper_death_rate</th>\n",
       "      <th>avg_deaths</th>\n",
       "      <th>recent_trend</th>\n",
       "      <th>recent_5_year_trend</th>\n",
       "      <th>lower_trend</th>\n",
       "      <th>upper_trend</th>\n",
       "      <th>State</th>\n",
       "    </tr>\n",
       "  </thead>\n",
       "  <tbody>\n",
       "    <tr>\n",
       "      <th>0</th>\n",
       "      <td>United States</td>\n",
       "      <td>0</td>\n",
       "      <td>No</td>\n",
       "      <td>46.0</td>\n",
       "      <td>45.9</td>\n",
       "      <td>46.1</td>\n",
       "      <td>157376.0</td>\n",
       "      <td>falling</td>\n",
       "      <td>-2.4</td>\n",
       "      <td>-2.6</td>\n",
       "      <td>-2.2</td>\n",
       "      <td>United States</td>\n",
       "    </tr>\n",
       "    <tr>\n",
       "      <th>1</th>\n",
       "      <td>Perry County, Kentucky</td>\n",
       "      <td>21193</td>\n",
       "      <td>No</td>\n",
       "      <td>125.6</td>\n",
       "      <td>108.9</td>\n",
       "      <td>144.2</td>\n",
       "      <td>43.0</td>\n",
       "      <td>stable</td>\n",
       "      <td>-0.6</td>\n",
       "      <td>-2.7</td>\n",
       "      <td>1.6</td>\n",
       "      <td>Kentucky</td>\n",
       "    </tr>\n",
       "    <tr>\n",
       "      <th>2</th>\n",
       "      <td>Powell County, Kentucky</td>\n",
       "      <td>21197</td>\n",
       "      <td>No</td>\n",
       "      <td>125.3</td>\n",
       "      <td>100.2</td>\n",
       "      <td>155.1</td>\n",
       "      <td>18.0</td>\n",
       "      <td>stable</td>\n",
       "      <td>1.7</td>\n",
       "      <td>0.0</td>\n",
       "      <td>3.4</td>\n",
       "      <td>Kentucky</td>\n",
       "    </tr>\n",
       "    <tr>\n",
       "      <th>3</th>\n",
       "      <td>North Slope Borough, Alaska</td>\n",
       "      <td>2185</td>\n",
       "      <td>No</td>\n",
       "      <td>124.9</td>\n",
       "      <td>73.0</td>\n",
       "      <td>194.7</td>\n",
       "      <td>5.0</td>\n",
       "      <td>NaN</td>\n",
       "      <td>NaN</td>\n",
       "      <td>NaN</td>\n",
       "      <td>NaN</td>\n",
       "      <td>Alaska</td>\n",
       "    </tr>\n",
       "    <tr>\n",
       "      <th>4</th>\n",
       "      <td>Owsley County, Kentucky</td>\n",
       "      <td>21189</td>\n",
       "      <td>No</td>\n",
       "      <td>118.5</td>\n",
       "      <td>83.1</td>\n",
       "      <td>165.5</td>\n",
       "      <td>8.0</td>\n",
       "      <td>stable</td>\n",
       "      <td>2.2</td>\n",
       "      <td>-0.4</td>\n",
       "      <td>4.8</td>\n",
       "      <td>Kentucky</td>\n",
       "    </tr>\n",
       "  </tbody>\n",
       "</table>\n",
       "</div>"
      ],
      "text/plain": [
       "                        County   FIPS 45.5_objective  Adj.Death_rate  \\\n",
       "0                United States      0             No            46.0   \n",
       "1       Perry County, Kentucky  21193             No           125.6   \n",
       "2      Powell County, Kentucky  21197             No           125.3   \n",
       "3  North Slope Borough, Alaska   2185             No           124.9   \n",
       "4      Owsley County, Kentucky  21189             No           118.5   \n",
       "\n",
       "   low_death_rate  upper_death_rate  avg_deaths recent_trend  \\\n",
       "0            45.9              46.1    157376.0      falling   \n",
       "1           108.9             144.2        43.0       stable   \n",
       "2           100.2             155.1        18.0       stable   \n",
       "3            73.0             194.7         5.0          NaN   \n",
       "4            83.1             165.5         8.0       stable   \n",
       "\n",
       "   recent_5_year_trend  lower_trend  upper_trend          State  \n",
       "0                 -2.4         -2.6         -2.2  United States  \n",
       "1                 -0.6         -2.7          1.6       Kentucky  \n",
       "2                  1.7          0.0          3.4       Kentucky  \n",
       "3                  NaN          NaN          NaN         Alaska  \n",
       "4                  2.2         -0.4          4.8       Kentucky  "
      ]
     },
     "execution_count": 160,
     "metadata": {},
     "output_type": "execute_result"
    }
   ],
   "source": [
    "data_frame=pd.read_csv('cancer_dataset.csv')\n",
    "data_frame.head()"
   ]
  },
  {
   "cell_type": "code",
   "execution_count": 161,
   "metadata": {},
   "outputs": [],
   "source": [
    "#we are removing the 'County' feature from dataframe.\n",
    "data_frame.drop(['County'],axis=1,inplace=True)"
   ]
  },
  {
   "cell_type": "code",
   "execution_count": 162,
   "metadata": {},
   "outputs": [],
   "source": [
    "#checking the categorical and numerical variables.\n",
    "categorical_features=[]\n",
    "numerical_features=[]\n",
    "for cols in data_frame.columns:\n",
    "    if data_frame[cols].dtype=='O':\n",
    "        categorical_features.append(cols)\n",
    "    else:\n",
    "        numerical_features.append(cols)"
   ]
  },
  {
   "cell_type": "code",
   "execution_count": 163,
   "metadata": {},
   "outputs": [
    {
     "name": "stdout",
     "output_type": "stream",
     "text": [
      "Categorical features:  ['45.5_objective', 'recent_trend', 'State']\n",
      "Numeircal features:  ['FIPS', 'Adj.Death_rate', 'low_death_rate', 'upper_death_rate', 'avg_deaths', 'recent_5_year_trend', 'lower_trend', 'upper_trend']\n"
     ]
    }
   ],
   "source": [
    "print('Categorical features: ',categorical_features)\n",
    "print('Numeircal features: ',numerical_features)"
   ]
  },
  {
   "cell_type": "code",
   "execution_count": 164,
   "metadata": {},
   "outputs": [
    {
     "data": {
      "text/html": [
       "<div>\n",
       "<style scoped>\n",
       "    .dataframe tbody tr th:only-of-type {\n",
       "        vertical-align: middle;\n",
       "    }\n",
       "\n",
       "    .dataframe tbody tr th {\n",
       "        vertical-align: top;\n",
       "    }\n",
       "\n",
       "    .dataframe thead th {\n",
       "        text-align: right;\n",
       "    }\n",
       "</style>\n",
       "<table border=\"1\" class=\"dataframe\">\n",
       "  <thead>\n",
       "    <tr style=\"text-align: right;\">\n",
       "      <th></th>\n",
       "      <th>FIPS</th>\n",
       "      <th>45.5_objective</th>\n",
       "      <th>Adj.Death_rate</th>\n",
       "      <th>low_death_rate</th>\n",
       "      <th>upper_death_rate</th>\n",
       "      <th>avg_deaths</th>\n",
       "      <th>recent_trend</th>\n",
       "      <th>recent_5_year_trend</th>\n",
       "      <th>lower_trend</th>\n",
       "      <th>upper_trend</th>\n",
       "      <th>State</th>\n",
       "    </tr>\n",
       "  </thead>\n",
       "  <tbody>\n",
       "    <tr>\n",
       "      <th>0</th>\n",
       "      <td>0</td>\n",
       "      <td>No</td>\n",
       "      <td>46.0</td>\n",
       "      <td>45.9</td>\n",
       "      <td>46.1</td>\n",
       "      <td>157376.0</td>\n",
       "      <td>falling</td>\n",
       "      <td>-2.4</td>\n",
       "      <td>-2.6</td>\n",
       "      <td>-2.2</td>\n",
       "      <td>United States</td>\n",
       "    </tr>\n",
       "    <tr>\n",
       "      <th>1</th>\n",
       "      <td>21193</td>\n",
       "      <td>No</td>\n",
       "      <td>125.6</td>\n",
       "      <td>108.9</td>\n",
       "      <td>144.2</td>\n",
       "      <td>43.0</td>\n",
       "      <td>stable</td>\n",
       "      <td>-0.6</td>\n",
       "      <td>-2.7</td>\n",
       "      <td>1.6</td>\n",
       "      <td>Kentucky</td>\n",
       "    </tr>\n",
       "    <tr>\n",
       "      <th>2</th>\n",
       "      <td>21197</td>\n",
       "      <td>No</td>\n",
       "      <td>125.3</td>\n",
       "      <td>100.2</td>\n",
       "      <td>155.1</td>\n",
       "      <td>18.0</td>\n",
       "      <td>stable</td>\n",
       "      <td>1.7</td>\n",
       "      <td>0.0</td>\n",
       "      <td>3.4</td>\n",
       "      <td>Kentucky</td>\n",
       "    </tr>\n",
       "    <tr>\n",
       "      <th>3</th>\n",
       "      <td>2185</td>\n",
       "      <td>No</td>\n",
       "      <td>124.9</td>\n",
       "      <td>73.0</td>\n",
       "      <td>194.7</td>\n",
       "      <td>5.0</td>\n",
       "      <td>NaN</td>\n",
       "      <td>NaN</td>\n",
       "      <td>NaN</td>\n",
       "      <td>NaN</td>\n",
       "      <td>Alaska</td>\n",
       "    </tr>\n",
       "    <tr>\n",
       "      <th>4</th>\n",
       "      <td>21189</td>\n",
       "      <td>No</td>\n",
       "      <td>118.5</td>\n",
       "      <td>83.1</td>\n",
       "      <td>165.5</td>\n",
       "      <td>8.0</td>\n",
       "      <td>stable</td>\n",
       "      <td>2.2</td>\n",
       "      <td>-0.4</td>\n",
       "      <td>4.8</td>\n",
       "      <td>Kentucky</td>\n",
       "    </tr>\n",
       "  </tbody>\n",
       "</table>\n",
       "</div>"
      ],
      "text/plain": [
       "    FIPS 45.5_objective  Adj.Death_rate  low_death_rate  upper_death_rate  \\\n",
       "0      0             No            46.0            45.9              46.1   \n",
       "1  21193             No           125.6           108.9             144.2   \n",
       "2  21197             No           125.3           100.2             155.1   \n",
       "3   2185             No           124.9            73.0             194.7   \n",
       "4  21189             No           118.5            83.1             165.5   \n",
       "\n",
       "   avg_deaths recent_trend  recent_5_year_trend  lower_trend  upper_trend  \\\n",
       "0    157376.0      falling                 -2.4         -2.6         -2.2   \n",
       "1        43.0       stable                 -0.6         -2.7          1.6   \n",
       "2        18.0       stable                  1.7          0.0          3.4   \n",
       "3         5.0          NaN                  NaN          NaN          NaN   \n",
       "4         8.0       stable                  2.2         -0.4          4.8   \n",
       "\n",
       "           State  \n",
       "0  United States  \n",
       "1       Kentucky  \n",
       "2       Kentucky  \n",
       "3         Alaska  \n",
       "4       Kentucky  "
      ]
     },
     "execution_count": 164,
     "metadata": {},
     "output_type": "execute_result"
    }
   ],
   "source": [
    "data_frame.head()"
   ]
  },
  {
   "cell_type": "code",
   "execution_count": 165,
   "metadata": {},
   "outputs": [],
   "source": [
    "#handling missing values.\n",
    "#first for categorical variables.\n",
    "for cols in categorical_features:\n",
    "    data_frame[cols].fillna('Missing',inplace=True)"
   ]
  },
  {
   "cell_type": "code",
   "execution_count": 166,
   "metadata": {},
   "outputs": [
    {
     "data": {
      "text/plain": [
       "45.5_objective    0\n",
       "recent_trend      0\n",
       "State             0\n",
       "dtype: int64"
      ]
     },
     "execution_count": 166,
     "metadata": {},
     "output_type": "execute_result"
    }
   ],
   "source": [
    "data_frame[categorical_features].isnull().sum()"
   ]
  },
  {
   "cell_type": "code",
   "execution_count": 167,
   "metadata": {},
   "outputs": [],
   "source": [
    "#now for numerical features.\n",
    "for cols in numerical_features:\n",
    "    median=data_frame[cols].median()\n",
    "    data_frame[cols].fillna(median,inplace=True)"
   ]
  },
  {
   "cell_type": "code",
   "execution_count": 168,
   "metadata": {},
   "outputs": [
    {
     "data": {
      "text/plain": [
       "FIPS                   0\n",
       "Adj.Death_rate         0\n",
       "low_death_rate         0\n",
       "upper_death_rate       0\n",
       "avg_deaths             0\n",
       "recent_5_year_trend    0\n",
       "lower_trend            0\n",
       "upper_trend            0\n",
       "dtype: int64"
      ]
     },
     "execution_count": 168,
     "metadata": {},
     "output_type": "execute_result"
    }
   ],
   "source": [
    "data_frame[numerical_features].isnull().sum()"
   ]
  },
  {
   "cell_type": "code",
   "execution_count": 169,
   "metadata": {},
   "outputs": [
    {
     "data": {
      "image/png": "[encoded data removed]",
      "text/plain": [
       "<Figure size 432x288 with 1 Axes>"
      ]
     },
     "metadata": {
      "needs_background": "light"
     },
     "output_type": "display_data"
    },
    {
     "data": {
      "image/png": "[encoded data removed]",
      "text/plain": [
       "<Figure size 432x288 with 1 Axes>"
      ]
     },
     "metadata": {
      "needs_background": "light"
     },
     "output_type": "display_data"
    },
    {
     "data": {
      "image/png": "[encoded data removed]",
      "text/plain": [
       "<Figure size 432x288 with 1 Axes>"
      ]
     },
     "metadata": {
      "needs_background": "light"
     },
     "output_type": "display_data"
    },
    {
     "data": {
      "image/png": "[encoded data removed]",
      "text/plain": [
       "<Figure size 432x288 with 1 Axes>"
      ]
     },
     "metadata": {
      "needs_background": "light"
     },
     "output_type": "display_data"
    },
    {
     "data": {
      "image/png": "[encoded data removed]",
      "text/plain": [
       "<Figure size 432x288 with 1 Axes>"
      ]
     },
     "metadata": {
      "needs_background": "light"
     },
     "output_type": "display_data"
    },
    {
     "data": {
      "image/png": "[encoded data removed]",
      "text/plain": [
       "<Figure size 432x288 with 1 Axes>"
      ]
     },
     "metadata": {
      "needs_background": "light"
     },
     "output_type": "display_data"
    },
    {
     "data": {
      "image/png": "[encoded data removed]",
      "text/plain": [
       "<Figure size 432x288 with 1 Axes>"
      ]
     },
     "metadata": {
      "needs_background": "light"
     },
     "output_type": "display_data"
    },
    {
     "data": {
      "image/png": "[encoded data removed]",
      "text/plain": [
       "<Figure size 432x288 with 1 Axes>"
      ]
     },
     "metadata": {
      "needs_background": "light"
     },
     "output_type": "display_data"
    }
   ],
   "source": [
    "#tranforming continous data.\n",
    "continous_data=[]\n",
    "for cols in numerical_features:\n",
    "    if len(data_frame[cols].unique())>25:\n",
    "        continous_data.append(cols)\n",
    "        data_frame[cols].hist(bins=40)\n",
    "        plt.xlabel(cols)\n",
    "        plt.show()"
   ]
  },
  {
   "cell_type": "code",
   "execution_count": 170,
   "metadata": {},
   "outputs": [],
   "source": [
    "#'FIPS', 'Adj.Death_rate','low_death_rate','upper_death_rate','avg_deaths','lower_trend','upper_trend'\n",
    "#these features are need to be tranformed."
   ]
  },
  {
   "cell_type": "code",
   "execution_count": 171,
   "metadata": {},
   "outputs": [],
   "source": [
    "features_trans=['FIPS', 'Adj.Death_rate','low_death_rate','upper_death_rate','avg_deaths','lower_trend','upper_trend']\n",
    "transformed_features=[]\n",
    "for cols in features_trans:\n",
    "    if 0 in data_frame[cols].unique():\n",
    "        pass\n",
    "    else:\n",
    "        transformed_features.append(cols)\n",
    "        data_frame[cols]=np.log(data_frame[cols])"
   ]
  },
  {
   "cell_type": "code",
   "execution_count": 172,
   "metadata": {},
   "outputs": [
    {
     "data": {
      "text/html": [
       "<div>\n",
       "<style scoped>\n",
       "    .dataframe tbody tr th:only-of-type {\n",
       "        vertical-align: middle;\n",
       "    }\n",
       "\n",
       "    .dataframe tbody tr th {\n",
       "        vertical-align: top;\n",
       "    }\n",
       "\n",
       "    .dataframe thead th {\n",
       "        text-align: right;\n",
       "    }\n",
       "</style>\n",
       "<table border=\"1\" class=\"dataframe\">\n",
       "  <thead>\n",
       "    <tr style=\"text-align: right;\">\n",
       "      <th></th>\n",
       "      <th>FIPS</th>\n",
       "      <th>45.5_objective</th>\n",
       "      <th>Adj.Death_rate</th>\n",
       "      <th>low_death_rate</th>\n",
       "      <th>upper_death_rate</th>\n",
       "      <th>avg_deaths</th>\n",
       "      <th>recent_trend</th>\n",
       "      <th>recent_5_year_trend</th>\n",
       "      <th>lower_trend</th>\n",
       "      <th>upper_trend</th>\n",
       "      <th>State</th>\n",
       "    </tr>\n",
       "  </thead>\n",
       "  <tbody>\n",
       "    <tr>\n",
       "      <th>0</th>\n",
       "      <td>0</td>\n",
       "      <td>No</td>\n",
       "      <td>3.828641</td>\n",
       "      <td>3.826465</td>\n",
       "      <td>3.830813</td>\n",
       "      <td>11.966393</td>\n",
       "      <td>falling</td>\n",
       "      <td>-2.4</td>\n",
       "      <td>-2.6</td>\n",
       "      <td>-2.2</td>\n",
       "      <td>United States</td>\n",
       "    </tr>\n",
       "    <tr>\n",
       "      <th>1</th>\n",
       "      <td>21193</td>\n",
       "      <td>No</td>\n",
       "      <td>4.833102</td>\n",
       "      <td>4.690430</td>\n",
       "      <td>4.971201</td>\n",
       "      <td>3.761200</td>\n",
       "      <td>stable</td>\n",
       "      <td>-0.6</td>\n",
       "      <td>-2.7</td>\n",
       "      <td>1.6</td>\n",
       "      <td>Kentucky</td>\n",
       "    </tr>\n",
       "    <tr>\n",
       "      <th>2</th>\n",
       "      <td>21197</td>\n",
       "      <td>No</td>\n",
       "      <td>4.830711</td>\n",
       "      <td>4.607168</td>\n",
       "      <td>5.044070</td>\n",
       "      <td>2.890372</td>\n",
       "      <td>stable</td>\n",
       "      <td>1.7</td>\n",
       "      <td>0.0</td>\n",
       "      <td>3.4</td>\n",
       "      <td>Kentucky</td>\n",
       "    </tr>\n",
       "    <tr>\n",
       "      <th>3</th>\n",
       "      <td>2185</td>\n",
       "      <td>No</td>\n",
       "      <td>4.827513</td>\n",
       "      <td>4.290459</td>\n",
       "      <td>5.271460</td>\n",
       "      <td>1.609438</td>\n",
       "      <td>Missing</td>\n",
       "      <td>-0.8</td>\n",
       "      <td>-2.1</td>\n",
       "      <td>0.6</td>\n",
       "      <td>Alaska</td>\n",
       "    </tr>\n",
       "    <tr>\n",
       "      <th>4</th>\n",
       "      <td>21189</td>\n",
       "      <td>No</td>\n",
       "      <td>4.774913</td>\n",
       "      <td>4.420045</td>\n",
       "      <td>5.108971</td>\n",
       "      <td>2.079442</td>\n",
       "      <td>stable</td>\n",
       "      <td>2.2</td>\n",
       "      <td>-0.4</td>\n",
       "      <td>4.8</td>\n",
       "      <td>Kentucky</td>\n",
       "    </tr>\n",
       "  </tbody>\n",
       "</table>\n",
       "</div>"
      ],
      "text/plain": [
       "    FIPS 45.5_objective  Adj.Death_rate  low_death_rate  upper_death_rate  \\\n",
       "0      0             No        3.828641        3.826465          3.830813   \n",
       "1  21193             No        4.833102        4.690430          4.971201   \n",
       "2  21197             No        4.830711        4.607168          5.044070   \n",
       "3   2185             No        4.827513        4.290459          5.271460   \n",
       "4  21189             No        4.774913        4.420045          5.108971   \n",
       "\n",
       "   avg_deaths recent_trend  recent_5_year_trend  lower_trend  upper_trend  \\\n",
       "0   11.966393      falling                 -2.4         -2.6         -2.2   \n",
       "1    3.761200       stable                 -0.6         -2.7          1.6   \n",
       "2    2.890372       stable                  1.7          0.0          3.4   \n",
       "3    1.609438      Missing                 -0.8         -2.1          0.6   \n",
       "4    2.079442       stable                  2.2         -0.4          4.8   \n",
       "\n",
       "           State  \n",
       "0  United States  \n",
       "1       Kentucky  \n",
       "2       Kentucky  \n",
       "3         Alaska  \n",
       "4       Kentucky  "
      ]
     },
     "execution_count": 172,
     "metadata": {},
     "output_type": "execute_result"
    }
   ],
   "source": [
    "data_frame.head()"
   ]
  },
  {
   "cell_type": "code",
   "execution_count": 173,
   "metadata": {},
   "outputs": [
    {
     "name": "stdout",
     "output_type": "stream",
     "text": [
      "Features transformed:  ['Adj.Death_rate', 'low_death_rate', 'upper_death_rate', 'avg_deaths']\n"
     ]
    }
   ],
   "source": [
    "print('Features transformed: ',transformed_features)"
   ]
  },
  {
   "cell_type": "code",
   "execution_count": 174,
   "metadata": {},
   "outputs": [
    {
     "data": {
      "image/png": "[encoded data removed]",
      "text/plain": [
       "<Figure size 432x288 with 1 Axes>"
      ]
     },
     "metadata": {
      "needs_background": "light"
     },
     "output_type": "display_data"
    },
    {
     "data": {
      "image/png": "[encoded data removed]",
      "text/plain": [
       "<Figure size 432x288 with 1 Axes>"
      ]
     },
     "metadata": {
      "needs_background": "light"
     },
     "output_type": "display_data"
    },
    {
     "data": {
      "image/png": "[encoded data removed]",
      "text/plain": [
       "<Figure size 432x288 with 1 Axes>"
      ]
     },
     "metadata": {
      "needs_background": "light"
     },
     "output_type": "display_data"
    },
    {
     "data": {
      "image/png": "[encoded data removed]",
      "text/plain": [
       "<Figure size 432x288 with 1 Axes>"
      ]
     },
     "metadata": {
      "needs_background": "light"
     },
     "output_type": "display_data"
    }
   ],
   "source": [
    "for cols in transformed_features:\n",
    "    data_frame[cols].hist(bins=40)\n",
    "    plt.xlabel(cols)\n",
    "    plt.show()"
   ]
  },
  {
   "cell_type": "code",
   "execution_count": 175,
   "metadata": {},
   "outputs": [],
   "source": [
    "#handling categorical variables.\n",
    "#checking out rare categories.\n",
    "for cols in categorical_features:\n",
    "    if cols!='State':\n",
    "        percentage=data_frame.groupby(cols)['FIPS'].count()/len(data_frame)\n",
    "        percentage_index=percentage[percentage>0.1].index\n",
    "        data_frame[cols]=np.where(data_frame[cols].isin(percentage_index),data_frame[cols],'Rare_var')"
   ]
  },
  {
   "cell_type": "code",
   "execution_count": 176,
   "metadata": {},
   "outputs": [
    {
     "data": {
      "text/html": [
       "<div>\n",
       "<style scoped>\n",
       "    .dataframe tbody tr th:only-of-type {\n",
       "        vertical-align: middle;\n",
       "    }\n",
       "\n",
       "    .dataframe tbody tr th {\n",
       "        vertical-align: top;\n",
       "    }\n",
       "\n",
       "    .dataframe thead th {\n",
       "        text-align: right;\n",
       "    }\n",
       "</style>\n",
       "<table border=\"1\" class=\"dataframe\">\n",
       "  <thead>\n",
       "    <tr style=\"text-align: right;\">\n",
       "      <th></th>\n",
       "      <th>45.5_objective</th>\n",
       "      <th>recent_trend</th>\n",
       "      <th>State</th>\n",
       "    </tr>\n",
       "  </thead>\n",
       "  <tbody>\n",
       "    <tr>\n",
       "      <th>0</th>\n",
       "      <td>No</td>\n",
       "      <td>falling</td>\n",
       "      <td>United States</td>\n",
       "    </tr>\n",
       "    <tr>\n",
       "      <th>1</th>\n",
       "      <td>No</td>\n",
       "      <td>stable</td>\n",
       "      <td>Kentucky</td>\n",
       "    </tr>\n",
       "    <tr>\n",
       "      <th>2</th>\n",
       "      <td>No</td>\n",
       "      <td>stable</td>\n",
       "      <td>Kentucky</td>\n",
       "    </tr>\n",
       "    <tr>\n",
       "      <th>3</th>\n",
       "      <td>No</td>\n",
       "      <td>Missing</td>\n",
       "      <td>Alaska</td>\n",
       "    </tr>\n",
       "    <tr>\n",
       "      <th>4</th>\n",
       "      <td>No</td>\n",
       "      <td>stable</td>\n",
       "      <td>Kentucky</td>\n",
       "    </tr>\n",
       "    <tr>\n",
       "      <th>5</th>\n",
       "      <td>No</td>\n",
       "      <td>falling</td>\n",
       "      <td>Florida</td>\n",
       "    </tr>\n",
       "    <tr>\n",
       "      <th>6</th>\n",
       "      <td>No</td>\n",
       "      <td>Rare_var</td>\n",
       "      <td>Kentucky</td>\n",
       "    </tr>\n",
       "    <tr>\n",
       "      <th>7</th>\n",
       "      <td>No</td>\n",
       "      <td>stable</td>\n",
       "      <td>Kentucky</td>\n",
       "    </tr>\n",
       "    <tr>\n",
       "      <th>8</th>\n",
       "      <td>No</td>\n",
       "      <td>stable</td>\n",
       "      <td>Kentucky</td>\n",
       "    </tr>\n",
       "    <tr>\n",
       "      <th>9</th>\n",
       "      <td>No</td>\n",
       "      <td>stable</td>\n",
       "      <td>Kentucky</td>\n",
       "    </tr>\n",
       "    <tr>\n",
       "      <th>10</th>\n",
       "      <td>No</td>\n",
       "      <td>stable</td>\n",
       "      <td>Kentucky</td>\n",
       "    </tr>\n",
       "    <tr>\n",
       "      <th>11</th>\n",
       "      <td>No</td>\n",
       "      <td>stable</td>\n",
       "      <td>Arkansas</td>\n",
       "    </tr>\n",
       "    <tr>\n",
       "      <th>12</th>\n",
       "      <td>No</td>\n",
       "      <td>stable</td>\n",
       "      <td>Tennessee</td>\n",
       "    </tr>\n",
       "    <tr>\n",
       "      <th>13</th>\n",
       "      <td>No</td>\n",
       "      <td>stable</td>\n",
       "      <td>Kentucky</td>\n",
       "    </tr>\n",
       "    <tr>\n",
       "      <th>14</th>\n",
       "      <td>No</td>\n",
       "      <td>stable</td>\n",
       "      <td>Kentucky</td>\n",
       "    </tr>\n",
       "    <tr>\n",
       "      <th>15</th>\n",
       "      <td>No</td>\n",
       "      <td>stable</td>\n",
       "      <td>Missouri</td>\n",
       "    </tr>\n",
       "    <tr>\n",
       "      <th>16</th>\n",
       "      <td>No</td>\n",
       "      <td>stable</td>\n",
       "      <td>Missouri</td>\n",
       "    </tr>\n",
       "    <tr>\n",
       "      <th>17</th>\n",
       "      <td>No</td>\n",
       "      <td>stable</td>\n",
       "      <td>Kentucky</td>\n",
       "    </tr>\n",
       "    <tr>\n",
       "      <th>18</th>\n",
       "      <td>No</td>\n",
       "      <td>Missing</td>\n",
       "      <td>Alaska</td>\n",
       "    </tr>\n",
       "    <tr>\n",
       "      <th>19</th>\n",
       "      <td>No</td>\n",
       "      <td>stable</td>\n",
       "      <td>Kentucky</td>\n",
       "    </tr>\n",
       "  </tbody>\n",
       "</table>\n",
       "</div>"
      ],
      "text/plain": [
       "   45.5_objective recent_trend          State\n",
       "0              No      falling  United States\n",
       "1              No       stable       Kentucky\n",
       "2              No       stable       Kentucky\n",
       "3              No      Missing         Alaska\n",
       "4              No       stable       Kentucky\n",
       "5              No      falling        Florida\n",
       "6              No     Rare_var       Kentucky\n",
       "7              No       stable       Kentucky\n",
       "8              No       stable       Kentucky\n",
       "9              No       stable       Kentucky\n",
       "10             No       stable       Kentucky\n",
       "11             No       stable       Arkansas\n",
       "12             No       stable      Tennessee\n",
       "13             No       stable       Kentucky\n",
       "14             No       stable       Kentucky\n",
       "15             No       stable       Missouri\n",
       "16             No       stable       Missouri\n",
       "17             No       stable       Kentucky\n",
       "18             No      Missing         Alaska\n",
       "19             No       stable       Kentucky"
      ]
     },
     "execution_count": 176,
     "metadata": {},
     "output_type": "execute_result"
    }
   ],
   "source": [
    "data_frame[categorical_features].head(20)"
   ]
  },
  {
   "cell_type": "code",
   "execution_count": 177,
   "metadata": {},
   "outputs": [],
   "source": [
    "#'State' feature need not to contain Rare_var because all the categories comes under 'Rare_var'."
   ]
  },
  {
   "cell_type": "code",
   "execution_count": 178,
   "metadata": {},
   "outputs": [
    {
     "name": "stdout",
     "output_type": "stream",
     "text": [
      "45.5_objective :  3\n",
      "recent_trend :  4\n",
      "State :  52\n"
     ]
    }
   ],
   "source": [
    "#now, converting categorical features into numeric features.\n",
    "#checking the number of categories in features.\n",
    "for cols in categorical_features:\n",
    "    print(cols,': ',len(data_frame[cols].value_counts()))"
   ]
  },
  {
   "cell_type": "code",
   "execution_count": 179,
   "metadata": {},
   "outputs": [],
   "source": [
    "for cols in categorical_features:\n",
    "    rank=data_frame[cols].value_counts(ascending=True).index\n",
    "    mapping={k:i for i,k in enumerate(rank,0)}\n",
    "    data_frame[cols]=data_frame[cols].map(mapping)"
   ]
  },
  {
   "cell_type": "code",
   "execution_count": 180,
   "metadata": {},
   "outputs": [
    {
     "data": {
      "text/html": [
       "<div>\n",
       "<style scoped>\n",
       "    .dataframe tbody tr th:only-of-type {\n",
       "        vertical-align: middle;\n",
       "    }\n",
       "\n",
       "    .dataframe tbody tr th {\n",
       "        vertical-align: top;\n",
       "    }\n",
       "\n",
       "    .dataframe thead th {\n",
       "        text-align: right;\n",
       "    }\n",
       "</style>\n",
       "<table border=\"1\" class=\"dataframe\">\n",
       "  <thead>\n",
       "    <tr style=\"text-align: right;\">\n",
       "      <th></th>\n",
       "      <th>FIPS</th>\n",
       "      <th>45.5_objective</th>\n",
       "      <th>Adj.Death_rate</th>\n",
       "      <th>low_death_rate</th>\n",
       "      <th>upper_death_rate</th>\n",
       "      <th>avg_deaths</th>\n",
       "      <th>recent_trend</th>\n",
       "      <th>recent_5_year_trend</th>\n",
       "      <th>lower_trend</th>\n",
       "      <th>upper_trend</th>\n",
       "      <th>State</th>\n",
       "    </tr>\n",
       "  </thead>\n",
       "  <tbody>\n",
       "    <tr>\n",
       "      <th>0</th>\n",
       "      <td>0</td>\n",
       "      <td>2</td>\n",
       "      <td>3.828641</td>\n",
       "      <td>3.826465</td>\n",
       "      <td>3.830813</td>\n",
       "      <td>11.966393</td>\n",
       "      <td>2</td>\n",
       "      <td>-2.4</td>\n",
       "      <td>-2.6</td>\n",
       "      <td>-2.2</td>\n",
       "      <td>0</td>\n",
       "    </tr>\n",
       "    <tr>\n",
       "      <th>1</th>\n",
       "      <td>21193</td>\n",
       "      <td>2</td>\n",
       "      <td>4.833102</td>\n",
       "      <td>4.690430</td>\n",
       "      <td>4.971201</td>\n",
       "      <td>3.761200</td>\n",
       "      <td>3</td>\n",
       "      <td>-0.6</td>\n",
       "      <td>-2.7</td>\n",
       "      <td>1.6</td>\n",
       "      <td>48</td>\n",
       "    </tr>\n",
       "    <tr>\n",
       "      <th>2</th>\n",
       "      <td>21197</td>\n",
       "      <td>2</td>\n",
       "      <td>4.830711</td>\n",
       "      <td>4.607168</td>\n",
       "      <td>5.044070</td>\n",
       "      <td>2.890372</td>\n",
       "      <td>3</td>\n",
       "      <td>1.7</td>\n",
       "      <td>0.0</td>\n",
       "      <td>3.4</td>\n",
       "      <td>48</td>\n",
       "    </tr>\n",
       "    <tr>\n",
       "      <th>3</th>\n",
       "      <td>2185</td>\n",
       "      <td>2</td>\n",
       "      <td>4.827513</td>\n",
       "      <td>4.290459</td>\n",
       "      <td>5.271460</td>\n",
       "      <td>1.609438</td>\n",
       "      <td>1</td>\n",
       "      <td>-0.8</td>\n",
       "      <td>-2.1</td>\n",
       "      <td>0.6</td>\n",
       "      <td>15</td>\n",
       "    </tr>\n",
       "    <tr>\n",
       "      <th>4</th>\n",
       "      <td>21189</td>\n",
       "      <td>2</td>\n",
       "      <td>4.774913</td>\n",
       "      <td>4.420045</td>\n",
       "      <td>5.108971</td>\n",
       "      <td>2.079442</td>\n",
       "      <td>3</td>\n",
       "      <td>2.2</td>\n",
       "      <td>-0.4</td>\n",
       "      <td>4.8</td>\n",
       "      <td>48</td>\n",
       "    </tr>\n",
       "  </tbody>\n",
       "</table>\n",
       "</div>"
      ],
      "text/plain": [
       "    FIPS  45.5_objective  Adj.Death_rate  low_death_rate  upper_death_rate  \\\n",
       "0      0               2        3.828641        3.826465          3.830813   \n",
       "1  21193               2        4.833102        4.690430          4.971201   \n",
       "2  21197               2        4.830711        4.607168          5.044070   \n",
       "3   2185               2        4.827513        4.290459          5.271460   \n",
       "4  21189               2        4.774913        4.420045          5.108971   \n",
       "\n",
       "   avg_deaths  recent_trend  recent_5_year_trend  lower_trend  upper_trend  \\\n",
       "0   11.966393             2                 -2.4         -2.6         -2.2   \n",
       "1    3.761200             3                 -0.6         -2.7          1.6   \n",
       "2    2.890372             3                  1.7          0.0          3.4   \n",
       "3    1.609438             1                 -0.8         -2.1          0.6   \n",
       "4    2.079442             3                  2.2         -0.4          4.8   \n",
       "\n",
       "   State  \n",
       "0      0  \n",
       "1     48  \n",
       "2     48  \n",
       "3     15  \n",
       "4     48  "
      ]
     },
     "execution_count": 180,
     "metadata": {},
     "output_type": "execute_result"
    }
   ],
   "source": [
    "data_frame.head()"
   ]
  },
  {
   "cell_type": "code",
   "execution_count": 181,
   "metadata": {},
   "outputs": [],
   "source": [
    "#normalizing the data.\n",
    "#using mixmax scaler.\n",
    "from sklearn.preprocessing import MinMaxScaler"
   ]
  },
  {
   "cell_type": "code",
   "execution_count": 182,
   "metadata": {},
   "outputs": [
    {
     "data": {
      "text/plain": [
       "MinMaxScaler()"
      ]
     },
     "execution_count": 182,
     "metadata": {},
     "output_type": "execute_result"
    }
   ],
   "source": [
    "scaler=MinMaxScaler()\n",
    "x=data_frame.iloc[:,1:-1]\n",
    "scaler.fit(x)"
   ]
  },
  {
   "cell_type": "code",
   "execution_count": 187,
   "metadata": {},
   "outputs": [
    {
     "data": {
      "text/html": [
       "<div>\n",
       "<style scoped>\n",
       "    .dataframe tbody tr th:only-of-type {\n",
       "        vertical-align: middle;\n",
       "    }\n",
       "\n",
       "    .dataframe tbody tr th {\n",
       "        vertical-align: top;\n",
       "    }\n",
       "\n",
       "    .dataframe thead th {\n",
       "        text-align: right;\n",
       "    }\n",
       "</style>\n",
       "<table border=\"1\" class=\"dataframe\">\n",
       "  <thead>\n",
       "    <tr style=\"text-align: right;\">\n",
       "      <th></th>\n",
       "      <th>45.5_objective</th>\n",
       "      <th>Adj.Death_rate</th>\n",
       "      <th>low_death_rate</th>\n",
       "      <th>upper_death_rate</th>\n",
       "      <th>avg_deaths</th>\n",
       "      <th>recent_trend</th>\n",
       "      <th>recent_5_year_trend</th>\n",
       "      <th>lower_trend</th>\n",
       "      <th>upper_trend</th>\n",
       "    </tr>\n",
       "  </thead>\n",
       "  <tbody>\n",
       "    <tr>\n",
       "      <th>0</th>\n",
       "      <td>1.0</td>\n",
       "      <td>0.615723</td>\n",
       "      <td>0.695157</td>\n",
       "      <td>0.470742</td>\n",
       "      <td>1.000000</td>\n",
       "      <td>0.666667</td>\n",
       "      <td>0.480620</td>\n",
       "      <td>0.859882</td>\n",
       "      <td>0.091629</td>\n",
       "    </tr>\n",
       "    <tr>\n",
       "      <th>1</th>\n",
       "      <td>1.0</td>\n",
       "      <td>1.000000</td>\n",
       "      <td>1.000000</td>\n",
       "      <td>0.889692</td>\n",
       "      <td>0.244998</td>\n",
       "      <td>1.000000</td>\n",
       "      <td>0.508527</td>\n",
       "      <td>0.858407</td>\n",
       "      <td>0.134615</td>\n",
       "    </tr>\n",
       "    <tr>\n",
       "      <th>2</th>\n",
       "      <td>1.0</td>\n",
       "      <td>0.999085</td>\n",
       "      <td>0.970622</td>\n",
       "      <td>0.916463</td>\n",
       "      <td>0.164869</td>\n",
       "      <td>1.000000</td>\n",
       "      <td>0.544186</td>\n",
       "      <td>0.898230</td>\n",
       "      <td>0.154977</td>\n",
       "    </tr>\n",
       "    <tr>\n",
       "      <th>3</th>\n",
       "      <td>1.0</td>\n",
       "      <td>0.997862</td>\n",
       "      <td>0.858874</td>\n",
       "      <td>1.000000</td>\n",
       "      <td>0.047004</td>\n",
       "      <td>0.333333</td>\n",
       "      <td>0.505426</td>\n",
       "      <td>0.867257</td>\n",
       "      <td>0.123303</td>\n",
       "    </tr>\n",
       "    <tr>\n",
       "      <th>4</th>\n",
       "      <td>1.0</td>\n",
       "      <td>0.977739</td>\n",
       "      <td>0.904597</td>\n",
       "      <td>0.940306</td>\n",
       "      <td>0.090251</td>\n",
       "      <td>1.000000</td>\n",
       "      <td>0.551938</td>\n",
       "      <td>0.892330</td>\n",
       "      <td>0.170814</td>\n",
       "    </tr>\n",
       "    <tr>\n",
       "      <th>...</th>\n",
       "      <td>...</td>\n",
       "      <td>...</td>\n",
       "      <td>...</td>\n",
       "      <td>...</td>\n",
       "      <td>...</td>\n",
       "      <td>...</td>\n",
       "      <td>...</td>\n",
       "      <td>...</td>\n",
       "      <td>...</td>\n",
       "    </tr>\n",
       "    <tr>\n",
       "      <th>3136</th>\n",
       "      <td>0.0</td>\n",
       "      <td>0.667016</td>\n",
       "      <td>0.671307</td>\n",
       "      <td>0.591267</td>\n",
       "      <td>0.179053</td>\n",
       "      <td>0.333333</td>\n",
       "      <td>0.505426</td>\n",
       "      <td>0.867257</td>\n",
       "      <td>0.123303</td>\n",
       "    </tr>\n",
       "    <tr>\n",
       "      <th>3137</th>\n",
       "      <td>0.0</td>\n",
       "      <td>0.667016</td>\n",
       "      <td>0.671307</td>\n",
       "      <td>0.591267</td>\n",
       "      <td>0.179053</td>\n",
       "      <td>0.333333</td>\n",
       "      <td>0.505426</td>\n",
       "      <td>0.867257</td>\n",
       "      <td>0.123303</td>\n",
       "    </tr>\n",
       "    <tr>\n",
       "      <th>3138</th>\n",
       "      <td>0.0</td>\n",
       "      <td>0.667016</td>\n",
       "      <td>0.671307</td>\n",
       "      <td>0.591267</td>\n",
       "      <td>0.179053</td>\n",
       "      <td>0.333333</td>\n",
       "      <td>0.505426</td>\n",
       "      <td>0.867257</td>\n",
       "      <td>0.123303</td>\n",
       "    </tr>\n",
       "    <tr>\n",
       "      <th>3139</th>\n",
       "      <td>0.0</td>\n",
       "      <td>0.667016</td>\n",
       "      <td>0.671307</td>\n",
       "      <td>0.591267</td>\n",
       "      <td>0.179053</td>\n",
       "      <td>0.333333</td>\n",
       "      <td>0.505426</td>\n",
       "      <td>0.867257</td>\n",
       "      <td>0.123303</td>\n",
       "    </tr>\n",
       "    <tr>\n",
       "      <th>3140</th>\n",
       "      <td>0.0</td>\n",
       "      <td>0.667016</td>\n",
       "      <td>0.671307</td>\n",
       "      <td>0.591267</td>\n",
       "      <td>0.179053</td>\n",
       "      <td>0.333333</td>\n",
       "      <td>0.505426</td>\n",
       "      <td>0.867257</td>\n",
       "      <td>0.123303</td>\n",
       "    </tr>\n",
       "  </tbody>\n",
       "</table>\n",
       "<p>3141 rows × 9 columns</p>\n",
       "</div>"
      ],
      "text/plain": [
       "      45.5_objective  Adj.Death_rate  low_death_rate  upper_death_rate  \\\n",
       "0                1.0        0.615723        0.695157          0.470742   \n",
       "1                1.0        1.000000        1.000000          0.889692   \n",
       "2                1.0        0.999085        0.970622          0.916463   \n",
       "3                1.0        0.997862        0.858874          1.000000   \n",
       "4                1.0        0.977739        0.904597          0.940306   \n",
       "...              ...             ...             ...               ...   \n",
       "3136             0.0        0.667016        0.671307          0.591267   \n",
       "3137             0.0        0.667016        0.671307          0.591267   \n",
       "3138             0.0        0.667016        0.671307          0.591267   \n",
       "3139             0.0        0.667016        0.671307          0.591267   \n",
       "3140             0.0        0.667016        0.671307          0.591267   \n",
       "\n",
       "      avg_deaths  recent_trend  recent_5_year_trend  lower_trend  upper_trend  \n",
       "0       1.000000      0.666667             0.480620     0.859882     0.091629  \n",
       "1       0.244998      1.000000             0.508527     0.858407     0.134615  \n",
       "2       0.164869      1.000000             0.544186     0.898230     0.154977  \n",
       "3       0.047004      0.333333             0.505426     0.867257     0.123303  \n",
       "4       0.090251      1.000000             0.551938     0.892330     0.170814  \n",
       "...          ...           ...                  ...          ...          ...  \n",
       "3136    0.179053      0.333333             0.505426     0.867257     0.123303  \n",
       "3137    0.179053      0.333333             0.505426     0.867257     0.123303  \n",
       "3138    0.179053      0.333333             0.505426     0.867257     0.123303  \n",
       "3139    0.179053      0.333333             0.505426     0.867257     0.123303  \n",
       "3140    0.179053      0.333333             0.505426     0.867257     0.123303  \n",
       "\n",
       "[3141 rows x 9 columns]"
      ]
     },
     "execution_count": 187,
     "metadata": {},
     "output_type": "execute_result"
    }
   ],
   "source": [
    "transformed_data=scaler.transform(x)\n",
    "transformed_data_frame=pd.DataFrame(scaler.transform(x),columns=x.columns)\n",
    "transformed_data_frame"
   ]
  },
  {
   "cell_type": "code",
   "execution_count": 190,
   "metadata": {},
   "outputs": [
    {
     "data": {
      "text/html": [
       "<div>\n",
       "<style scoped>\n",
       "    .dataframe tbody tr th:only-of-type {\n",
       "        vertical-align: middle;\n",
       "    }\n",
       "\n",
       "    .dataframe tbody tr th {\n",
       "        vertical-align: top;\n",
       "    }\n",
       "\n",
       "    .dataframe thead th {\n",
       "        text-align: right;\n",
       "    }\n",
       "</style>\n",
       "<table border=\"1\" class=\"dataframe\">\n",
       "  <thead>\n",
       "    <tr style=\"text-align: right;\">\n",
       "      <th></th>\n",
       "      <th>FIPS</th>\n",
       "      <th>45.5_objective</th>\n",
       "      <th>Adj.Death_rate</th>\n",
       "      <th>low_death_rate</th>\n",
       "      <th>upper_death_rate</th>\n",
       "      <th>avg_deaths</th>\n",
       "      <th>recent_trend</th>\n",
       "      <th>recent_5_year_trend</th>\n",
       "      <th>lower_trend</th>\n",
       "      <th>upper_trend</th>\n",
       "    </tr>\n",
       "  </thead>\n",
       "  <tbody>\n",
       "    <tr>\n",
       "      <th>0</th>\n",
       "      <td>0</td>\n",
       "      <td>1.0</td>\n",
       "      <td>0.615723</td>\n",
       "      <td>0.695157</td>\n",
       "      <td>0.470742</td>\n",
       "      <td>1.000000</td>\n",
       "      <td>0.666667</td>\n",
       "      <td>0.480620</td>\n",
       "      <td>0.859882</td>\n",
       "      <td>0.091629</td>\n",
       "    </tr>\n",
       "    <tr>\n",
       "      <th>1</th>\n",
       "      <td>21193</td>\n",
       "      <td>1.0</td>\n",
       "      <td>1.000000</td>\n",
       "      <td>1.000000</td>\n",
       "      <td>0.889692</td>\n",
       "      <td>0.244998</td>\n",
       "      <td>1.000000</td>\n",
       "      <td>0.508527</td>\n",
       "      <td>0.858407</td>\n",
       "      <td>0.134615</td>\n",
       "    </tr>\n",
       "    <tr>\n",
       "      <th>2</th>\n",
       "      <td>21197</td>\n",
       "      <td>1.0</td>\n",
       "      <td>0.999085</td>\n",
       "      <td>0.970622</td>\n",
       "      <td>0.916463</td>\n",
       "      <td>0.164869</td>\n",
       "      <td>1.000000</td>\n",
       "      <td>0.544186</td>\n",
       "      <td>0.898230</td>\n",
       "      <td>0.154977</td>\n",
       "    </tr>\n",
       "    <tr>\n",
       "      <th>3</th>\n",
       "      <td>2185</td>\n",
       "      <td>1.0</td>\n",
       "      <td>0.997862</td>\n",
       "      <td>0.858874</td>\n",
       "      <td>1.000000</td>\n",
       "      <td>0.047004</td>\n",
       "      <td>0.333333</td>\n",
       "      <td>0.505426</td>\n",
       "      <td>0.867257</td>\n",
       "      <td>0.123303</td>\n",
       "    </tr>\n",
       "    <tr>\n",
       "      <th>4</th>\n",
       "      <td>21189</td>\n",
       "      <td>1.0</td>\n",
       "      <td>0.977739</td>\n",
       "      <td>0.904597</td>\n",
       "      <td>0.940306</td>\n",
       "      <td>0.090251</td>\n",
       "      <td>1.000000</td>\n",
       "      <td>0.551938</td>\n",
       "      <td>0.892330</td>\n",
       "      <td>0.170814</td>\n",
       "    </tr>\n",
       "  </tbody>\n",
       "</table>\n",
       "</div>"
      ],
      "text/plain": [
       "    FIPS  45.5_objective  Adj.Death_rate  low_death_rate  upper_death_rate  \\\n",
       "0      0             1.0        0.615723        0.695157          0.470742   \n",
       "1  21193             1.0        1.000000        1.000000          0.889692   \n",
       "2  21197             1.0        0.999085        0.970622          0.916463   \n",
       "3   2185             1.0        0.997862        0.858874          1.000000   \n",
       "4  21189             1.0        0.977739        0.904597          0.940306   \n",
       "\n",
       "   avg_deaths  recent_trend  recent_5_year_trend  lower_trend  upper_trend  \n",
       "0    1.000000      0.666667             0.480620     0.859882     0.091629  \n",
       "1    0.244998      1.000000             0.508527     0.858407     0.134615  \n",
       "2    0.164869      1.000000             0.544186     0.898230     0.154977  \n",
       "3    0.047004      0.333333             0.505426     0.867257     0.123303  \n",
       "4    0.090251      1.000000             0.551938     0.892330     0.170814  "
      ]
     },
     "execution_count": 190,
     "metadata": {},
     "output_type": "execute_result"
    }
   ],
   "source": [
    "final_data_frame=pd.concat([data_frame[['FIPS']].reset_index(drop=True),transformed_data_frame],axis=1)\n",
    "final_data_frame.head()"
   ]
  },
  {
   "cell_type": "code",
   "execution_count": 191,
   "metadata": {},
   "outputs": [],
   "source": [
    "final_data_frame.to_csv('final_data.csv',index=False)"
   ]
  }
 ],
 "metadata": {
  "kernelspec": {
   "display_name": "Python 3",
   "language": "python",
   "name": "python3"
  },
  "language_info": {
   "codemirror_mode": {
    "name": "ipython",
    "version": 3
   },
   "file_extension": ".py",
   "mimetype": "text/x-python",
   "name": "python",
   "nbconvert_exporter": "python",
   "pygments_lexer": "ipython3",
   "version": "3.8.5"
  }
 },
 "nbformat": 4,
 "nbformat_minor": 4
}
