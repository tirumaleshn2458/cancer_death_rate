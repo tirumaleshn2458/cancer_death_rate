{
 "cells": [
  {
   "cell_type": "markdown",
   "metadata": {},
   "source": [
    "# Implementing ML model."
   ]
  },
  {
   "cell_type": "code",
   "execution_count": 15,
   "metadata": {},
   "outputs": [],
   "source": [
    "import pandas as pd\n",
    "import numpy as np\n",
    "from sklearn.linear_model import LinearRegression\n",
    "from sklearn.model_selection import train_test_split"
   ]
  },
  {
   "cell_type": "code",
   "execution_count": 16,
   "metadata": {},
   "outputs": [
    {
     "data": {
      "text/html": [
       "<div>\n",
       "<style scoped>\n",
       "    .dataframe tbody tr th:only-of-type {\n",
       "        vertical-align: middle;\n",
       "    }\n",
       "\n",
       "    .dataframe tbody tr th {\n",
       "        vertical-align: top;\n",
       "    }\n",
       "\n",
       "    .dataframe thead th {\n",
       "        text-align: right;\n",
       "    }\n",
       "</style>\n",
       "<table border=\"1\" class=\"dataframe\">\n",
       "  <thead>\n",
       "    <tr style=\"text-align: right;\">\n",
       "      <th></th>\n",
       "      <th>FIPS</th>\n",
       "      <th>45.5_objective</th>\n",
       "      <th>Adj.Death_rate</th>\n",
       "      <th>low_death_rate</th>\n",
       "      <th>upper_death_rate</th>\n",
       "      <th>avg_deaths</th>\n",
       "      <th>recent_trend</th>\n",
       "      <th>recent_5_year_trend</th>\n",
       "      <th>lower_trend</th>\n",
       "      <th>upper_trend</th>\n",
       "    </tr>\n",
       "  </thead>\n",
       "  <tbody>\n",
       "    <tr>\n",
       "      <th>0</th>\n",
       "      <td>0</td>\n",
       "      <td>1.0</td>\n",
       "      <td>0.615723</td>\n",
       "      <td>0.695157</td>\n",
       "      <td>0.470742</td>\n",
       "      <td>1.000000</td>\n",
       "      <td>0.666667</td>\n",
       "      <td>0.480620</td>\n",
       "      <td>0.859882</td>\n",
       "      <td>0.091629</td>\n",
       "    </tr>\n",
       "    <tr>\n",
       "      <th>1</th>\n",
       "      <td>21193</td>\n",
       "      <td>1.0</td>\n",
       "      <td>1.000000</td>\n",
       "      <td>1.000000</td>\n",
       "      <td>0.889692</td>\n",
       "      <td>0.244998</td>\n",
       "      <td>1.000000</td>\n",
       "      <td>0.508527</td>\n",
       "      <td>0.858407</td>\n",
       "      <td>0.134615</td>\n",
       "    </tr>\n",
       "    <tr>\n",
       "      <th>2</th>\n",
       "      <td>21197</td>\n",
       "      <td>1.0</td>\n",
       "      <td>0.999085</td>\n",
       "      <td>0.970622</td>\n",
       "      <td>0.916463</td>\n",
       "      <td>0.164869</td>\n",
       "      <td>1.000000</td>\n",
       "      <td>0.544186</td>\n",
       "      <td>0.898230</td>\n",
       "      <td>0.154977</td>\n",
       "    </tr>\n",
       "    <tr>\n",
       "      <th>3</th>\n",
       "      <td>2185</td>\n",
       "      <td>1.0</td>\n",
       "      <td>0.997862</td>\n",
       "      <td>0.858874</td>\n",
       "      <td>1.000000</td>\n",
       "      <td>0.047004</td>\n",
       "      <td>0.333333</td>\n",
       "      <td>0.505426</td>\n",
       "      <td>0.867257</td>\n",
       "      <td>0.123303</td>\n",
       "    </tr>\n",
       "    <tr>\n",
       "      <th>4</th>\n",
       "      <td>21189</td>\n",
       "      <td>1.0</td>\n",
       "      <td>0.977739</td>\n",
       "      <td>0.904597</td>\n",
       "      <td>0.940306</td>\n",
       "      <td>0.090251</td>\n",
       "      <td>1.000000</td>\n",
       "      <td>0.551938</td>\n",
       "      <td>0.892330</td>\n",
       "      <td>0.170814</td>\n",
       "    </tr>\n",
       "  </tbody>\n",
       "</table>\n",
       "</div>"
      ],
      "text/plain": [
       "    FIPS  45.5_objective  Adj.Death_rate  low_death_rate  upper_death_rate  \\\n",
       "0      0             1.0        0.615723        0.695157          0.470742   \n",
       "1  21193             1.0        1.000000        1.000000          0.889692   \n",
       "2  21197             1.0        0.999085        0.970622          0.916463   \n",
       "3   2185             1.0        0.997862        0.858874          1.000000   \n",
       "4  21189             1.0        0.977739        0.904597          0.940306   \n",
       "\n",
       "   avg_deaths  recent_trend  recent_5_year_trend  lower_trend  upper_trend  \n",
       "0    1.000000      0.666667             0.480620     0.859882     0.091629  \n",
       "1    0.244998      1.000000             0.508527     0.858407     0.134615  \n",
       "2    0.164869      1.000000             0.544186     0.898230     0.154977  \n",
       "3    0.047004      0.333333             0.505426     0.867257     0.123303  \n",
       "4    0.090251      1.000000             0.551938     0.892330     0.170814  "
      ]
     },
     "execution_count": 16,
     "metadata": {},
     "output_type": "execute_result"
    }
   ],
   "source": [
    "data_frame=pd.read_csv('final_data.csv')\n",
    "data_frame.head()"
   ]
  },
  {
   "cell_type": "code",
   "execution_count": 17,
   "metadata": {},
   "outputs": [],
   "source": [
    "y=data_frame['Adj.Death_rate']\n",
    "x=data_frame.drop(['Adj.Death_rate'],axis=1)"
   ]
  },
  {
   "cell_type": "code",
   "execution_count": 18,
   "metadata": {},
   "outputs": [],
   "source": [
    "x_train,x_test,y_train,y_test=train_test_split(x,y,test_size=0.3,random_state=0)"
   ]
  },
  {
   "cell_type": "code",
   "execution_count": 19,
   "metadata": {},
   "outputs": [
    {
     "data": {
      "text/plain": [
       "LinearRegression()"
      ]
     },
     "execution_count": 19,
     "metadata": {},
     "output_type": "execute_result"
    }
   ],
   "source": [
    "model=LinearRegression()\n",
    "model.fit(x_train,y_train)"
   ]
  },
  {
   "cell_type": "code",
   "execution_count": 20,
   "metadata": {},
   "outputs": [
    {
     "data": {
      "text/plain": [
       "0.9997907548516883"
      ]
     },
     "execution_count": 20,
     "metadata": {},
     "output_type": "execute_result"
    }
   ],
   "source": [
    "model.score(x_test,y_test)"
   ]
  }
 ],
 "metadata": {
  "kernelspec": {
   "display_name": "Python 3",
   "language": "python",
   "name": "python3"
  },
  "language_info": {
   "codemirror_mode": {
    "name": "ipython",
    "version": 3
   },
   "file_extension": ".py",
   "mimetype": "text/x-python",
   "name": "python",
   "nbconvert_exporter": "python",
   "pygments_lexer": "ipython3",
   "version": "3.8.5"
  }
 },
 "nbformat": 4,
 "nbformat_minor": 4
}
