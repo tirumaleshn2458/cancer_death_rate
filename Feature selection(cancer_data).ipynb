{
 "cells": [
  {
   "cell_type": "markdown",
   "metadata": {},
   "source": [
    "# Feature selection"
   ]
  },
  {
   "cell_type": "code",
   "execution_count": 2,
   "metadata": {},
   "outputs": [],
   "source": [
    "import pandas as pd\n",
    "import numpy as np\n",
    "from sklearn.linear_model import Lasso\n",
    "from sklearn.feature_selection import SelectFromModel"
   ]
  },
  {
   "cell_type": "code",
   "execution_count": 3,
   "metadata": {},
   "outputs": [],
   "source": [
    "data_frame=pd.read_csv('final_data.csv')"
   ]
  },
  {
   "cell_type": "code",
   "execution_count": 5,
   "metadata": {},
   "outputs": [
    {
     "data": {
      "text/html": [
       "<div>\n",
       "<style scoped>\n",
       "    .dataframe tbody tr th:only-of-type {\n",
       "        vertical-align: middle;\n",
       "    }\n",
       "\n",
       "    .dataframe tbody tr th {\n",
       "        vertical-align: top;\n",
       "    }\n",
       "\n",
       "    .dataframe thead th {\n",
       "        text-align: right;\n",
       "    }\n",
       "</style>\n",
       "<table border=\"1\" class=\"dataframe\">\n",
       "  <thead>\n",
       "    <tr style=\"text-align: right;\">\n",
       "      <th></th>\n",
       "      <th>FIPS</th>\n",
       "      <th>45.5_objective</th>\n",
       "      <th>Adj.Death_rate</th>\n",
       "      <th>low_death_rate</th>\n",
       "      <th>upper_death_rate</th>\n",
       "      <th>avg_deaths</th>\n",
       "      <th>recent_trend</th>\n",
       "      <th>recent_5_year_trend</th>\n",
       "      <th>lower_trend</th>\n",
       "      <th>upper_trend</th>\n",
       "    </tr>\n",
       "  </thead>\n",
       "  <tbody>\n",
       "    <tr>\n",
       "      <th>0</th>\n",
       "      <td>0</td>\n",
       "      <td>1.0</td>\n",
       "      <td>0.615723</td>\n",
       "      <td>0.695157</td>\n",
       "      <td>0.470742</td>\n",
       "      <td>1.000000</td>\n",
       "      <td>0.666667</td>\n",
       "      <td>0.480620</td>\n",
       "      <td>0.859882</td>\n",
       "      <td>0.091629</td>\n",
       "    </tr>\n",
       "    <tr>\n",
       "      <th>1</th>\n",
       "      <td>21193</td>\n",
       "      <td>1.0</td>\n",
       "      <td>1.000000</td>\n",
       "      <td>1.000000</td>\n",
       "      <td>0.889692</td>\n",
       "      <td>0.244998</td>\n",
       "      <td>1.000000</td>\n",
       "      <td>0.508527</td>\n",
       "      <td>0.858407</td>\n",
       "      <td>0.134615</td>\n",
       "    </tr>\n",
       "    <tr>\n",
       "      <th>2</th>\n",
       "      <td>21197</td>\n",
       "      <td>1.0</td>\n",
       "      <td>0.999085</td>\n",
       "      <td>0.970622</td>\n",
       "      <td>0.916463</td>\n",
       "      <td>0.164869</td>\n",
       "      <td>1.000000</td>\n",
       "      <td>0.544186</td>\n",
       "      <td>0.898230</td>\n",
       "      <td>0.154977</td>\n",
       "    </tr>\n",
       "    <tr>\n",
       "      <th>3</th>\n",
       "      <td>2185</td>\n",
       "      <td>1.0</td>\n",
       "      <td>0.997862</td>\n",
       "      <td>0.858874</td>\n",
       "      <td>1.000000</td>\n",
       "      <td>0.047004</td>\n",
       "      <td>0.333333</td>\n",
       "      <td>0.505426</td>\n",
       "      <td>0.867257</td>\n",
       "      <td>0.123303</td>\n",
       "    </tr>\n",
       "    <tr>\n",
       "      <th>4</th>\n",
       "      <td>21189</td>\n",
       "      <td>1.0</td>\n",
       "      <td>0.977739</td>\n",
       "      <td>0.904597</td>\n",
       "      <td>0.940306</td>\n",
       "      <td>0.090251</td>\n",
       "      <td>1.000000</td>\n",
       "      <td>0.551938</td>\n",
       "      <td>0.892330</td>\n",
       "      <td>0.170814</td>\n",
       "    </tr>\n",
       "  </tbody>\n",
       "</table>\n",
       "</div>"
      ],
      "text/plain": [
       "    FIPS  45.5_objective  Adj.Death_rate  low_death_rate  upper_death_rate  \\\n",
       "0      0             1.0        0.615723        0.695157          0.470742   \n",
       "1  21193             1.0        1.000000        1.000000          0.889692   \n",
       "2  21197             1.0        0.999085        0.970622          0.916463   \n",
       "3   2185             1.0        0.997862        0.858874          1.000000   \n",
       "4  21189             1.0        0.977739        0.904597          0.940306   \n",
       "\n",
       "   avg_deaths  recent_trend  recent_5_year_trend  lower_trend  upper_trend  \n",
       "0    1.000000      0.666667             0.480620     0.859882     0.091629  \n",
       "1    0.244998      1.000000             0.508527     0.858407     0.134615  \n",
       "2    0.164869      1.000000             0.544186     0.898230     0.154977  \n",
       "3    0.047004      0.333333             0.505426     0.867257     0.123303  \n",
       "4    0.090251      1.000000             0.551938     0.892330     0.170814  "
      ]
     },
     "execution_count": 5,
     "metadata": {},
     "output_type": "execute_result"
    }
   ],
   "source": [
    "data_frame.head()"
   ]
  },
  {
   "cell_type": "code",
   "execution_count": 6,
   "metadata": {},
   "outputs": [],
   "source": [
    "x=data_frame.iloc[:,1:]\n",
    "y=data_frame['FIPS']"
   ]
  },
  {
   "cell_type": "code",
   "execution_count": 18,
   "metadata": {},
   "outputs": [
    {
     "name": "stderr",
     "output_type": "stream",
     "text": [
      "/opt/anaconda3/lib/python3.8/site-packages/sklearn/linear_model/_coordinate_descent.py:529: ConvergenceWarning: Objective did not converge. You might want to increase the number of iterations. Duality gap: 352735098818.02246, tolerance: 72148110.53876446\n",
      "  model = cd_fast.enet_coordinate_descent(\n"
     ]
    },
    {
     "data": {
      "text/plain": [
       "SelectFromModel(estimator=Lasso(alpha=0.005, random_state=0))"
      ]
     },
     "execution_count": 18,
     "metadata": {},
     "output_type": "execute_result"
    }
   ],
   "source": [
    "feature_sel_model=SelectFromModel(Lasso(alpha=0.005,random_state=0))\n",
    "feature_sel_model.fit(x,y)"
   ]
  },
  {
   "cell_type": "code",
   "execution_count": 19,
   "metadata": {},
   "outputs": [],
   "source": [
    "selected_features=[]\n",
    "for i,j in zip(x.columns,feature_sel_model.get_support()):\n",
    "    if j==True:\n",
    "        selected_features.append(i)"
   ]
  },
  {
   "cell_type": "code",
   "execution_count": 20,
   "metadata": {},
   "outputs": [
    {
     "data": {
      "text/plain": [
       "['45.5_objective',\n",
       " 'Adj.Death_rate',\n",
       " 'low_death_rate',\n",
       " 'upper_death_rate',\n",
       " 'avg_deaths',\n",
       " 'recent_trend',\n",
       " 'recent_5_year_trend',\n",
       " 'lower_trend',\n",
       " 'upper_trend']"
      ]
     },
     "execution_count": 20,
     "metadata": {},
     "output_type": "execute_result"
    }
   ],
   "source": [
    "selected_features"
   ]
  },
  {
   "cell_type": "code",
   "execution_count": 21,
   "metadata": {},
   "outputs": [],
   "source": [
    "#all features are important."
   ]
  }
 ],
 "metadata": {
  "kernelspec": {
   "display_name": "Python 3",
   "language": "python",
   "name": "python3"
  },
  "language_info": {
   "codemirror_mode": {
    "name": "ipython",
    "version": 3
   },
   "file_extension": ".py",
   "mimetype": "text/x-python",
   "name": "python",
   "nbconvert_exporter": "python",
   "pygments_lexer": "ipython3",
   "version": "3.8.5"
  }
 },
 "nbformat": 4,
 "nbformat_minor": 4
}
